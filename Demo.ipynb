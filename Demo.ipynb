{
  "nbformat": 4,
  "nbformat_minor": 0,
  "metadata": {
    "colab": {
      "name": "Demo.ipynb",
      "provenance": [],
      "collapsed_sections": [],
      "toc_visible": true,
      "authorship_tag": "ABX9TyMBoh8c+s79vfD33lI+wUf5",
      "include_colab_link": true
    },
    "kernelspec": {
      "name": "python3",
      "display_name": "Python 3"
    },
    "language_info": {
      "name": "python"
    }
  },
  "cells": [
    {
      "cell_type": "markdown",
      "metadata": {
        "id": "view-in-github",
        "colab_type": "text"
      },
      "source": [
        "<a href=\"https://colab.research.google.com/github/sagrawal128/validatrix/blob/main/Demo.ipynb\" target=\"_parent\"><img src=\"https://colab.research.google.com/assets/colab-badge.svg\" alt=\"Open In Colab\"/></a>"
      ]
    },
    {
      "cell_type": "markdown",
      "source": [
        "This documentation will take you through installing and using the validatrix library."
      ],
      "metadata": {
        "id": "GEpuF7Uu_p2I"
      }
    },
    {
      "cell_type": "markdown",
      "source": [
        "You can install directly from the github link as below:"
      ],
      "metadata": {
        "id": "Dt3jFceu_08s"
      }
    },
    {
      "cell_type": "code",
      "execution_count": null,
      "metadata": {
        "id": "iaGOvFNfIz8f"
      },
      "outputs": [],
      "source": [
        "pip install git+https://github.com/sagrawal128/validatrix"
      ]
    },
    {
      "cell_type": "markdown",
      "source": [
        "## Usage"
      ],
      "metadata": {
        "id": "VQkq4Ku9AKI7"
      }
    },
    {
      "cell_type": "markdown",
      "source": [
        "In this section, we would demonstrate how can you use validatrix to validate the data using rules. You need to create a rule object first and then call the validate method. Some of the rules are prebuilt into the library such as HasColumns and HasSchema. Adding more rules would be discussed in a later section."
      ],
      "metadata": {
        "id": "cTErQ08RATJ9"
      }
    },
    {
      "cell_type": "code",
      "source": [
        "from validatrix import HasColumns\n",
        "import pandas as pd"
      ],
      "metadata": {
        "id": "cKZUfk-iatOM"
      },
      "execution_count": 2,
      "outputs": []
    },
    {
      "cell_type": "code",
      "source": [
        "data = pd.read_csv(\"./sample_data/california_housing_train.csv\")"
      ],
      "metadata": {
        "id": "rVZY_MSYaw2i"
      },
      "execution_count": 3,
      "outputs": []
    },
    {
      "cell_type": "code",
      "source": [
        "data.head"
      ],
      "metadata": {
        "colab": {
          "base_uri": "https://localhost:8080/"
        },
        "id": "pkjmxxG2A43S",
        "outputId": "39c73e66-2e39-49bf-ea16-b6b6fec78fd1"
      },
      "execution_count": 5,
      "outputs": [
        {
          "output_type": "execute_result",
          "data": {
            "text/plain": [
              "<bound method NDFrame.head of        longitude  latitude  ...  median_income  median_house_value\n",
              "0        -114.31     34.19  ...         1.4936             66900.0\n",
              "1        -114.47     34.40  ...         1.8200             80100.0\n",
              "2        -114.56     33.69  ...         1.6509             85700.0\n",
              "3        -114.57     33.64  ...         3.1917             73400.0\n",
              "4        -114.57     33.57  ...         1.9250             65500.0\n",
              "...          ...       ...  ...            ...                 ...\n",
              "16995    -124.26     40.58  ...         2.3571            111400.0\n",
              "16996    -124.27     40.69  ...         2.5179             79000.0\n",
              "16997    -124.30     41.84  ...         3.0313            103600.0\n",
              "16998    -124.30     41.80  ...         1.9797             85800.0\n",
              "16999    -124.35     40.54  ...         3.0147             94600.0\n",
              "\n",
              "[17000 rows x 9 columns]>"
            ]
          },
          "metadata": {},
          "execution_count": 5
        }
      ]
    },
    {
      "cell_type": "markdown",
      "source": [
        "Let's define a rule that the dataframe contains longitude and latitude columns."
      ],
      "metadata": {
        "id": "HM7RumYDBJK9"
      }
    },
    {
      "cell_type": "code",
      "source": [
        "rule = HasColumns(columns=[\"longitude\", \"latitude\"], allow_subset=True)\n",
        "assert rule.validate(data)"
      ],
      "metadata": {
        "id": "fZ46NQ5YBBiM"
      },
      "execution_count": 13,
      "outputs": []
    },
    {
      "cell_type": "markdown",
      "source": [
        "Now let's try what would happen if we do not allow subsets."
      ],
      "metadata": {
        "id": "KFMnJqAGC7T_"
      }
    },
    {
      "cell_type": "code",
      "source": [
        "rule = HasColumns(columns=[\"longitude\", \"latitude\"], allow_subset=False)\n",
        "rule.validate(data)"
      ],
      "metadata": {
        "colab": {
          "base_uri": "https://localhost:8080/",
          "height": 373
        },
        "id": "ZuQ_ecoOA6O-",
        "outputId": "fc353c16-2d50-4172-d186-1c9cc70dc832"
      },
      "execution_count": 11,
      "outputs": [
        {
          "output_type": "error",
          "ename": "ValidationError",
          "evalue": "ignored",
          "traceback": [
            "\u001b[0;31m---------------------------------------------------------------------------\u001b[0m",
            "\u001b[0;31mValidationError\u001b[0m                           Traceback (most recent call last)",
            "\u001b[0;32m<ipython-input-11-732693f09f1b>\u001b[0m in \u001b[0;36m<module>\u001b[0;34m()\u001b[0m\n\u001b[1;32m      1\u001b[0m \u001b[0mrule\u001b[0m \u001b[0;34m=\u001b[0m \u001b[0mHasColumns\u001b[0m\u001b[0;34m(\u001b[0m\u001b[0mcolumns\u001b[0m\u001b[0;34m=\u001b[0m\u001b[0;34m[\u001b[0m\u001b[0;34m\"longitude\"\u001b[0m\u001b[0;34m,\u001b[0m \u001b[0;34m\"latitude\"\u001b[0m\u001b[0;34m]\u001b[0m\u001b[0;34m,\u001b[0m \u001b[0mallow_subset\u001b[0m\u001b[0;34m=\u001b[0m\u001b[0;32mFalse\u001b[0m\u001b[0;34m)\u001b[0m\u001b[0;34m\u001b[0m\u001b[0;34m\u001b[0m\u001b[0m\n\u001b[0;32m----> 2\u001b[0;31m \u001b[0mrule\u001b[0m\u001b[0;34m.\u001b[0m\u001b[0mvalidate\u001b[0m\u001b[0;34m(\u001b[0m\u001b[0mdata\u001b[0m\u001b[0;34m)\u001b[0m\u001b[0;34m\u001b[0m\u001b[0;34m\u001b[0m\u001b[0m\n\u001b[0m",
            "\u001b[0;32m/usr/local/lib/python3.7/dist-packages/validatrix/base.py\u001b[0m in \u001b[0;36mvalidate\u001b[0;34m(self, data, silent)\u001b[0m\n\u001b[1;32m    188\u001b[0m             \u001b[0mresult\u001b[0m\u001b[0;34m.\u001b[0m\u001b[0mmessage\u001b[0m \u001b[0;34m=\u001b[0m \u001b[0mstr\u001b[0m\u001b[0;34m(\u001b[0m\u001b[0mself\u001b[0m\u001b[0;34m)\u001b[0m\u001b[0;34m\u001b[0m\u001b[0;34m\u001b[0m\u001b[0m\n\u001b[1;32m    189\u001b[0m         \u001b[0;32mif\u001b[0m \u001b[0;32mnot\u001b[0m \u001b[0msilent\u001b[0m \u001b[0;32mand\u001b[0m \u001b[0mself\u001b[0m\u001b[0;34m.\u001b[0m\u001b[0m_raise_exc\u001b[0m \u001b[0;32mand\u001b[0m \u001b[0;32mnot\u001b[0m \u001b[0mresult\u001b[0m\u001b[0;34m:\u001b[0m\u001b[0;34m\u001b[0m\u001b[0;34m\u001b[0m\u001b[0m\n\u001b[0;32m--> 190\u001b[0;31m             \u001b[0;32mraise\u001b[0m \u001b[0mValidationError\u001b[0m\u001b[0;34m(\u001b[0m\u001b[0mvalidation_result\u001b[0m\u001b[0;34m=\u001b[0m\u001b[0mresult\u001b[0m\u001b[0;34m)\u001b[0m\u001b[0;34m\u001b[0m\u001b[0;34m\u001b[0m\u001b[0m\n\u001b[0m\u001b[1;32m    191\u001b[0m \u001b[0;34m\u001b[0m\u001b[0m\n\u001b[1;32m    192\u001b[0m         \u001b[0;32mif\u001b[0m \u001b[0;32mnot\u001b[0m \u001b[0msilent\u001b[0m \u001b[0;32mand\u001b[0m \u001b[0mself\u001b[0m\u001b[0;34m.\u001b[0m\u001b[0m_enable_logging\u001b[0m \u001b[0;32mand\u001b[0m \u001b[0;32mnot\u001b[0m \u001b[0mresult\u001b[0m\u001b[0;34m:\u001b[0m\u001b[0;34m\u001b[0m\u001b[0;34m\u001b[0m\u001b[0m\n",
            "\u001b[0;31mValidationError\u001b[0m: \n\u001b[31mValidation Failed\n\u001b[0m\u001b[31m<validatrix.rules.HasColumns object at 0x7f75e04f2910>\u001b[0m\u001b[31m\nErrors:\n\u001b[0m* Unexpected columns: {'median_house_value', 'housing_median_age', 'median_income', 'households', 'population', 'total_bedrooms', 'total_rooms'}"
          ]
        }
      ]
    },
    {
      "cell_type": "markdown",
      "source": [
        "The above rule failed because we set the `allow_subset` argument false. This means that we want only and all the specified columns to be there. If such is not the case, we can resort to the default value of `allow_subset` to allow for a subset of column names."
      ],
      "metadata": {
        "id": "g3hXZwUmBwvd"
      }
    },
    {
      "cell_type": "markdown",
      "source": [
        "Also note in the above example how the rule generated descriptive information about what were the unexpected columns it found."
      ],
      "metadata": {
        "id": "7yB2DjO9CRdl"
      }
    },
    {
      "cell_type": "code",
      "source": [
        "rule = HasColumns(columns=[\"longitude\", \"latitude\"], allow_subset=False)\n",
        "result = rule.validate(data, silent=True)\n",
        "print(result)"
      ],
      "metadata": {
        "colab": {
          "base_uri": "https://localhost:8080/"
        },
        "id": "sgIAnPdABeUp",
        "outputId": "315f19ef-82b9-47ff-b9d9-7a5df660ce98"
      },
      "execution_count": 15,
      "outputs": [
        {
          "output_type": "stream",
          "name": "stdout",
          "text": [
            "\u001b[31mValidation Failed\n",
            "\u001b[0m\u001b[31m<validatrix.rules.HasColumns object at 0x7f75e04f0e50>\u001b[0m\u001b[31m\n",
            "Errors:\n",
            "\u001b[0m* Unexpected columns: {'median_house_value', 'housing_median_age', 'median_income', 'households', 'population', 'total_bedrooms', 'total_rooms'}\n"
          ]
        }
      ]
    },
    {
      "cell_type": "markdown",
      "source": [
        "In the above example we see that an exception was not raised. Instead we get a nicer logging message. By default, when a rule fails an error is raised, this can be silenced using the `silent` argument in the Rule object."
      ],
      "metadata": {
        "id": "-s4Dg43ODKJQ"
      }
    },
    {
      "cell_type": "markdown",
      "source": [
        "### Rule as a function decorator"
      ],
      "metadata": {
        "id": "TTd0CHJ3Dhff"
      }
    },
    {
      "cell_type": "markdown",
      "source": [
        "In this section we would demonstrated how the same rules could be incorporated in your python code directly to validate a function follows a given property.\n",
        "\n",
        "This is quite useful in machine learning could where data might be changing properties based on external sources, or model might give spurious results. This approach helps separate the validation code from the business logic, as well as make your code more readable and debugging easier."
      ],
      "metadata": {
        "id": "40RxxTC0Drjl"
      }
    },
    {
      "cell_type": "code",
      "source": [
        "@HasColumns(columns=[\"longitude\", \"latitude\"], allow_subset=False, raise_exc=False)\n",
        "def load_data():\n",
        "  return pd.read_csv(\"./sample_data/california_housing_train.csv\")\n",
        "\n",
        "df = load_data()"
      ],
      "metadata": {
        "colab": {
          "base_uri": "https://localhost:8080/"
        },
        "id": "LWtt0jggEMJ2",
        "outputId": "525f30f2-5cb4-42f7-8b94-b5295142dadb"
      },
      "execution_count": 18,
      "outputs": [
        {
          "output_type": "stream",
          "name": "stderr",
          "text": [
            "Output of function `load_data` failed to validate.\n",
            "\u001b[31mValidation Failed\n",
            "\u001b[0m\u001b[31m<validatrix.rules.HasColumns object at 0x7f75e47299d0>\u001b[0m\u001b[31m\n",
            "Errors:\n",
            "\u001b[0m* Unexpected columns: {'median_house_value', 'housing_median_age', 'median_income', 'households', 'population', 'total_bedrooms', 'total_rooms'}\n"
          ]
        }
      ]
    },
    {
      "cell_type": "markdown",
      "source": [
        "Each time load_data is called it is checked if the return values has the specified columns or not. Setting `raise_exc` to True would create an error each time the rule fails on load_data function. For this example, we set it to False."
      ],
      "metadata": {
        "id": "QZzB00WhEukM"
      }
    },
    {
      "cell_type": "markdown",
      "source": [
        "We can also check a part of the output, instead of all the returned arguments."
      ],
      "metadata": {
        "id": "kptqLPqlFf0Z"
      }
    },
    {
      "cell_type": "code",
      "source": [
        "@HasColumns(columns=[\"longitude\", \"latitude\"], allow_subset=False, raise_exc=False, outputs=\"data\")\n",
        "def load_data():\n",
        "  return {\"data\": pd.read_csv(\"./sample_data/california_housing_train.csv\"), \"message\": \"Requested data\"}\n",
        "\n",
        "df = load_data()"
      ],
      "metadata": {
        "colab": {
          "base_uri": "https://localhost:8080/"
        },
        "id": "EVMaMP17Famr",
        "outputId": "078f5fb0-f9ca-4b8d-e634-43198a2987a6"
      },
      "execution_count": 19,
      "outputs": [
        {
          "output_type": "stream",
          "name": "stderr",
          "text": [
            "Output `data` of function `load_data` failed to validate.\n",
            "\u001b[31mValidation Failed\n",
            "\u001b[0m\u001b[31m<validatrix.rules.HasColumns object at 0x7f75e4729290>\u001b[0m\u001b[31m\n",
            "Errors:\n",
            "\u001b[0m* Unexpected columns: {'median_house_value', 'housing_median_age', 'median_income', 'households', 'population', 'total_bedrooms', 'total_rooms'}\n"
          ]
        }
      ]
    },
    {
      "cell_type": "markdown",
      "source": [
        "Similarly, we can validate rules on inputs to the function as well."
      ],
      "metadata": {
        "id": "scJoRceUF39v"
      }
    },
    {
      "cell_type": "code",
      "source": [
        "@HasColumns(columns=[\"longitude\", \"latitude\"], allow_subset=False, raise_exc=False, inputs=\"data\")\n",
        "def load_data(data, message):\n",
        "  return {\"data\": data, \"message\": message}\n",
        "\n",
        "data = pd.read_csv(\"./sample_data/california_housing_train.csv\")\n",
        "message = \"Housing data\"\n",
        "df = load_data(data, message)"
      ],
      "metadata": {
        "colab": {
          "base_uri": "https://localhost:8080/"
        },
        "id": "2C3oEc03Fzsg",
        "outputId": "c05a6f00-1955-4ba6-e708-2db573fd2763"
      },
      "execution_count": 20,
      "outputs": [
        {
          "output_type": "stream",
          "name": "stderr",
          "text": [
            "Input `data` of function `load_data` failed to validate.\n",
            "\u001b[31mValidation Failed\n",
            "\u001b[0m\u001b[31m<validatrix.rules.HasColumns object at 0x7f75e0451410>\u001b[0m\u001b[31m\n",
            "Errors:\n",
            "\u001b[0m* Unexpected columns: {'median_house_value', 'housing_median_age', 'median_income', 'households', 'population', 'total_bedrooms', 'total_rooms'}\n"
          ]
        }
      ]
    },
    {
      "cell_type": "markdown",
      "source": [
        "# Extensibility"
      ],
      "metadata": {
        "id": "sXzGnh11GYoC"
      }
    },
    {
      "cell_type": "markdown",
      "source": [
        "Often times you would like to bundle different rules together. For example, when encoding sensor data expectations, or a group of assumptions about a data frame. The class nature of the Rules exactly lets you manage your rules in one place for this purpose. Example you may create a new rule for sensor data as follow:"
      ],
      "metadata": {
        "id": "cZ6XZvUmGbyV"
      }
    },
    {
      "cell_type": "code",
      "source": [
        "from validatrix import Rule\n",
        "class SensorRules(Rule):\n",
        "  def __init__(columns, schema, range):\n",
        "    ###\n",
        "  def _validate(data):\n",
        "    has_range()\n",
        "    has_columns()\n",
        "  def has_range():\n",
        "    ###\n",
        "  def has_columns():\n",
        "    ###"
      ],
      "metadata": {
        "id": "rxrzZCrEG1lj"
      },
      "execution_count": null,
      "outputs": []
    }
  ]
}